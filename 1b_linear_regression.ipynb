{
 "cells": [
  {
   "cell_type": "markdown",
   "metadata": {},
   "source": [
    "# Linear regression\n",
    "\n",
    "Notebook inspired by https://github.com/aymericdamien/TensorFlow-Examples/"
   ]
  },
  {
   "cell_type": "markdown",
   "metadata": {
    "collapsed": false
   },
   "source": [
    "In this notebook we'll implement a linear regression with Tensorflow."
   ]
  },
  {
   "cell_type": "code",
   "execution_count": 1,
   "metadata": {
    "collapsed": true
   },
   "outputs": [],
   "source": [
    "import tensorflow as tf\n",
    "import numpy\n",
    "import matplotlib.pyplot as plt\n",
    "rng = numpy.random\n",
    "\n",
    "%matplotlib inline"
   ]
  },
  {
   "cell_type": "code",
   "execution_count": 2,
   "metadata": {
    "collapsed": true
   },
   "outputs": [],
   "source": [
    "# Training Data\n",
    "train_X = numpy.asarray([3.3,4.4,5.5,6.71,6.93,4.168,9.779,6.182,7.59,2.167,\n",
    "                         7.042,10.791,5.313,7.997,5.654,9.27,3.1])\n",
    "train_Y = numpy.asarray([1.7,2.76,2.09,3.19,1.694,1.573,3.366,2.596,2.53,1.221,\n",
    "                         2.827,3.465,1.65,2.904,2.42,2.94,1.3])\n",
    "n_samples = train_X.shape[0]"
   ]
  },
  {
   "cell_type": "code",
   "execution_count": 3,
   "metadata": {
    "collapsed": false
   },
   "outputs": [
    {
     "data": {
      "text/plain": [
       "[<matplotlib.lines.Line2D at 0x1177f4ad0>]"
      ]
     },
     "execution_count": 3,
     "metadata": {},
     "output_type": "execute_result"
    },
    {
     "data": {
      "image/png": "[encoded data removed]",
      "text/plain": [
       "<matplotlib.figure.Figure at 0x1143dbb90>"
      ]
     },
     "metadata": {},
     "output_type": "display_data"
    }
   ],
   "source": [
    "#Graphic display\n",
    "plt.plot(train_X, train_Y, 'ro', label='Original data')"
   ]
  },
  {
   "cell_type": "markdown",
   "metadata": {},
   "source": [
    "A linear regression is a model of type:\n",
    "\n",
    "    Y = X * W + b\n",
    "\n",
    "First we set some global parameters like the learning rate and the number of epochs we want to run"
   ]
  },
  {
   "cell_type": "code",
   "execution_count": 4,
   "metadata": {
    "collapsed": true
   },
   "outputs": [],
   "source": [
    "learning_rate = 0.001\n",
    "training_epochs = 1000"
   ]
  },
  {
   "cell_type": "markdown",
   "metadata": {},
   "source": [
    "## Exercise 1\n",
    "\n",
    "1. define input placeholders, assign them to variables named `X` and `Y`\n",
    "- define model variables W and b and assign them names `W` and `b`\n",
    "- construct a linear model of the form `pred = X * W + b`\n",
    "- define the cost as the mean of the squared error between `Y` and `pred`. You will need the function `tf.reduce_mean`"
   ]
  },
  {
   "cell_type": "code",
   "execution_count": 16,
   "metadata": {
    "collapsed": true
   },
   "outputs": [],
   "source": [
    "import numpy\n",
    "\n",
    "\n",
    "X = tf.placeholder(tf.float32)\n",
    "\n",
    "Y = tf.placeholder(tf.float32)\n",
    "\n",
    "W = tf.Variable(numpy.random.randn(), name=\"weight\")\n",
    "b = tf.Variable(numpy.random.randn(), name=\"bias\")\n",
    "\n",
    "# Construct a linear model\n",
    "y_pred = tf.add(tf.multiply(X, W), b)\n",
    "\n",
    "\n",
    "cost = tf.reduce_mean((y_pred-Y)*(y_pred-Y))"
   ]
  },
  {
   "cell_type": "markdown",
   "metadata": {},
   "source": [
    "## Optimizer"
   ]
  },
  {
   "cell_type": "code",
   "execution_count": 17,
   "metadata": {
    "collapsed": false
   },
   "outputs": [],
   "source": [
    "# Gradient descent\n",
    "optimizer = tf.train.GradientDescentOptimizer(learning_rate).minimize(cost)\n",
    "\n",
    "learning_rate = 0.01\n",
    "optimizer = tf.train.AdagradOptimizer(learning_rate).minimize(cost)"
   ]
  },
  {
   "cell_type": "markdown",
   "metadata": {},
   "source": [
    "## Running the model"
   ]
  },
  {
   "cell_type": "code",
   "execution_count": 18,
   "metadata": {
    "collapsed": true
   },
   "outputs": [],
   "source": [
    "# Initializing the variables\n",
    "init = tf.global_variables_initializer()"
   ]
  },
  {
   "cell_type": "code",
   "execution_count": 19,
   "metadata": {
    "collapsed": false
   },
   "outputs": [
    {
     "name": "stdout",
     "output_type": "stream",
     "text": [
      "Epoch: 0050 cost= 0.226244375 W= 0.323916 b= 0.139405\n",
      "Epoch: 0100 cost= 0.201927975 W= 0.338019 b= 0.176073\n",
      "Epoch: 0150 cost= 0.198910668 W= 0.337297 b= 0.195729\n",
      "Epoch: 0200 cost= 0.196521938 W= 0.335233 b= 0.212082\n",
      "Epoch: 0250 cost= 0.194407970 W= 0.333172 b= 0.226828\n",
      "Epoch: 0300 cost= 0.192509070 W= 0.331247 b= 0.240387\n",
      "Epoch: 0350 cost= 0.190787315 W= 0.329457 b= 0.252968\n",
      "Epoch: 0400 cost= 0.189214543 W= 0.327783 b= 0.264719\n",
      "Epoch: 0450 cost= 0.187769026 W= 0.326211 b= 0.275752\n",
      "Epoch: 0500 cost= 0.186433464 W= 0.324729 b= 0.286155\n",
      "Epoch: 0550 cost= 0.185194150 W= 0.323326 b= 0.296002\n",
      "Epoch: 0600 cost= 0.184039652 W= 0.321995 b= 0.305353\n",
      "Epoch: 0650 cost= 0.182960391 W= 0.320726 b= 0.314256\n",
      "Epoch: 0700 cost= 0.181948557 W= 0.319515 b= 0.322754\n",
      "Epoch: 0750 cost= 0.180997357 W= 0.318356 b= 0.330884\n",
      "Epoch: 0800 cost= 0.180101007 W= 0.317246 b= 0.338676\n",
      "Epoch: 0850 cost= 0.179254547 W= 0.316179 b= 0.346158\n",
      "Epoch: 0900 cost= 0.178453550 W= 0.315154 b= 0.353353\n",
      "Epoch: 0950 cost= 0.177694306 W= 0.314166 b= 0.360283\n",
      "Epoch: 1000 cost= 0.176973358 W= 0.313214 b= 0.366966\n",
      "Optimization Finished!\n",
      "Training cost= 0.176973 W= 0.313214 b= 0.366966 \n",
      "\n"
     ]
    },
    {
     "data": {
      "image/png": "[encoded data removed]",
      "text/plain": [
       "<matplotlib.figure.Figure at 0x118058390>"
      ]
     },
     "metadata": {},
     "output_type": "display_data"
    }
   ],
   "source": [
    "# Launch the graph\n",
    "with tf.Session() as sess:\n",
    "    sess.run(init)\n",
    "\n",
    "    # Fit all training data\n",
    "    for epoch in range(training_epochs):\n",
    "        for (x, y) in zip(train_X, train_Y):\n",
    "            sess.run(optimizer, feed_dict={X: x, Y: y})\n",
    "\n",
    "        #Display logs per epoch step\n",
    "        if (epoch+1) % 50 == 0:\n",
    "            c = sess.run(cost, feed_dict={X: train_X, Y:train_Y})\n",
    "            print \"Epoch:\", '%04d' % (epoch+1), \"cost=\", \"{:.9f}\".format(c), \\\n",
    "                \"W=\", sess.run(W), \"b=\", sess.run(b)\n",
    "\n",
    "    print \"Optimization Finished!\"\n",
    "    training_cost = sess.run(cost, feed_dict={X: train_X, Y: train_Y})\n",
    "    print \"Training cost=\", training_cost, \"W=\", sess.run(W), \"b=\", sess.run(b), '\\n'\n",
    "\n",
    "    #Graphic display\n",
    "    plt.plot(train_X, train_Y, 'ro', label='Original data')\n",
    "    plt.plot(train_X, sess.run(W) * train_X + sess.run(b), label='Fitted line')\n",
    "    plt.legend()\n",
    "    plt.show()"
   ]
  },
  {
   "cell_type": "markdown",
   "metadata": {
    "collapsed": false
   },
   "source": [
    "## Exercise 2:\n",
    "\n",
    "1. Try to change the learning rate. what happens?\n",
    "- Try using a different optimizer. what happens?"
   ]
  },
  {
   "cell_type": "code",
   "execution_count": null,
   "metadata": {
    "collapsed": true
   },
   "outputs": [],
   "source": []
  }
 ],
 "metadata": {
  "anaconda-cloud": {},
  "kernelspec": {
   "display_name": "Python 2",
   "language": "python",
   "name": "python2"
  },
  "language_info": {
   "codemirror_mode": {
    "name": "ipython",
    "version": 2
   },
   "file_extension": ".py",
   "mimetype": "text/x-python",
   "name": "python",
   "nbconvert_exporter": "python",
   "pygments_lexer": "ipython2",
   "version": "2.7.13"
  }
 },
 "nbformat": 4,
 "nbformat_minor": 0
}
