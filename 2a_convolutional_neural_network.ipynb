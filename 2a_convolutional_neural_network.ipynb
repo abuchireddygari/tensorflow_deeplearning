{
 "cells": [
  {
   "cell_type": "markdown",
   "metadata": {},
   "source": [
    "# Convolutional Neural Network\n",
    "\n",
    "Notebook inspired by https://github.com/aymericdamien/TensorFlow-Examples/\n",
    "and by https://github.com/pkmital/CADL.\n",
    "\n",
    "Example is using the [MNIST database of handwritten digits](http://yann.lecun.com/exdb/mnist/)"
   ]
  },
  {
   "cell_type": "code",
   "execution_count": 1,
   "metadata": {
    "collapsed": false
   },
   "outputs": [],
   "source": [
    "import numpy as np\n",
    "import matplotlib.pyplot as plt\n",
    "%matplotlib inline\n",
    "\n",
    "from tensorflow.examples.tutorials.mnist import input_data\n",
    "import tensorflow as tf"
   ]
  },
  {
   "cell_type": "code",
   "execution_count": 2,
   "metadata": {
    "collapsed": false
   },
   "outputs": [
    {
     "name": "stdout",
     "output_type": "stream",
     "text": [
      "Extracting /tmp/data/train-images-idx3-ubyte.gz\n",
      "Extracting /tmp/data/train-labels-idx1-ubyte.gz\n",
      "Extracting /tmp/data/t10k-images-idx3-ubyte.gz\n",
      "Extracting /tmp/data/t10k-labels-idx1-ubyte.gz\n"
     ]
    }
   ],
   "source": [
    "mnist = input_data.read_data_sets(\"/tmp/data/\", one_hot=True)"
   ]
  },
  {
   "cell_type": "code",
   "execution_count": 3,
   "metadata": {
    "collapsed": false
   },
   "outputs": [
    {
     "data": {
      "text/plain": [
       "Datasets(train=<tensorflow.contrib.learn.python.learn.datasets.mnist.DataSet object at 0x110649750>, validation=<tensorflow.contrib.learn.python.learn.datasets.mnist.DataSet object at 0x11b245350>, test=<tensorflow.contrib.learn.python.learn.datasets.mnist.DataSet object at 0x11b245450>)"
      ]
     },
     "execution_count": 3,
     "metadata": {},
     "output_type": "execute_result"
    }
   ],
   "source": [
    "mnist"
   ]
  },
  {
   "cell_type": "code",
   "execution_count": 4,
   "metadata": {
    "collapsed": false
   },
   "outputs": [
    {
     "data": {
      "text/plain": [
       "(1, 784)"
      ]
     },
     "execution_count": 4,
     "metadata": {},
     "output_type": "execute_result"
    }
   ],
   "source": [
    "img = mnist.train.next_batch(1)\n",
    "img[0].shape"
   ]
  },
  {
   "cell_type": "code",
   "execution_count": 5,
   "metadata": {
    "collapsed": false
   },
   "outputs": [],
   "source": [
    "img = img[0].reshape((28, 28))"
   ]
  },
  {
   "cell_type": "code",
   "execution_count": 6,
   "metadata": {
    "collapsed": false
   },
   "outputs": [
    {
     "data": {
      "text/plain": [
       "<matplotlib.image.AxesImage at 0x11b54e450>"
      ]
     },
     "execution_count": 6,
     "metadata": {},
     "output_type": "execute_result"
    },
    {
     "data": {
      "image/png": "[encoded data removed]",
      "text/plain": [
       "<matplotlib.figure.Figure at 0x11b245250>"
      ]
     },
     "metadata": {},
     "output_type": "display_data"
    }
   ],
   "source": [
    "plt.imshow(img, cmap='Greys')"
   ]
  },
  {
   "cell_type": "markdown",
   "metadata": {},
   "source": [
    "## Convolution with a gaussian kernel\n",
    "\n",
    "Let's define a gaussian kernel and let's convolve the image with it."
   ]
  },
  {
   "cell_type": "code",
   "execution_count": 7,
   "metadata": {
    "collapsed": true
   },
   "outputs": [],
   "source": [
    "ksize = 7"
   ]
  },
  {
   "cell_type": "markdown",
   "metadata": {},
   "source": [
    "I'll start by defining a 1 dimensional gaussian"
   ]
  },
  {
   "cell_type": "code",
   "execution_count": 8,
   "metadata": {
    "collapsed": false
   },
   "outputs": [],
   "source": [
    "x = tf.linspace(-1.0, 1.0, ksize)"
   ]
  },
  {
   "cell_type": "code",
   "execution_count": 9,
   "metadata": {
    "collapsed": false
   },
   "outputs": [],
   "source": [
    "# The 1 dimensional gaussian takes two parameters,\n",
    "# the mean value, and the standard deviation\n",
    "mean = 0.0\n",
    "std = 0.5\n",
    "gaussian = (tf.exp(tf.negative(tf.pow(x - mean, 2.0) /\n",
    "                          (2.0 * tf.pow(std, 2.0)))) *\n",
    "            (1.0 / (std * tf.sqrt(2.0 * 3.1415))))"
   ]
  },
  {
   "cell_type": "code",
   "execution_count": 10,
   "metadata": {
    "collapsed": false
   },
   "outputs": [
    {
     "data": {
      "text/plain": [
       "[<matplotlib.lines.Line2D at 0x108fbca50>]"
      ]
     },
     "execution_count": 10,
     "metadata": {},
     "output_type": "execute_result"
    },
    {
     "data": {
      "image/png": "[encoded data removed]",
      "text/plain": [
       "<matplotlib.figure.Figure at 0x11b916d10>"
      ]
     },
     "metadata": {},
     "output_type": "display_data"
    }
   ],
   "source": [
    "with tf.Session() as sess:\n",
    "    res = gaussian.eval()\n",
    "plt.plot(res)"
   ]
  },
  {
   "cell_type": "code",
   "execution_count": 11,
   "metadata": {
    "collapsed": false
   },
   "outputs": [
    {
     "data": {
      "text/plain": [
       "<matplotlib.image.AxesImage at 0x11c981450>"
      ]
     },
     "execution_count": 11,
     "metadata": {},
     "output_type": "execute_result"
    },
    {
     "data": {
      "image/png": "[encoded data removed]",
      "text/plain": [
       "<matplotlib.figure.Figure at 0x11c87ed90>"
      ]
     },
     "metadata": {},
     "output_type": "display_data"
    }
   ],
   "source": [
    "# Let's store the number of values in our Gaussian curve.\n",
    "ksize = gaussian.get_shape().as_list()[0]\n",
    "\n",
    "# Let's multiply the two to get a 2d gaussian\n",
    "gaussian_2d = tf.matmul(tf.reshape(gaussian, [ksize, 1]), tf.reshape(gaussian, [1, ksize]))\n",
    "\n",
    "# Execute the graph\n",
    "with tf.Session() as sess:\n",
    "    gaussian_2d_res = gaussian_2d.eval()\n",
    "\n",
    "plt.imshow(gaussian_2d_res)"
   ]
  },
  {
   "cell_type": "code",
   "execution_count": 12,
   "metadata": {
    "collapsed": false
   },
   "outputs": [
    {
     "data": {
      "text/plain": [
       "array([[ 0.01166044,  0.0354213 ,  0.06899127,  0.08615965,  0.06899126,\n",
       "         0.03542129,  0.01166044],\n",
       "       [ 0.0354213 ,  0.10760041,  0.20957698,  0.26172996,  0.20957695,\n",
       "         0.10760038,  0.0354213 ],\n",
       "       [ 0.06899127,  0.20957698,  0.4082002 ,  0.50978035,  0.40820014,\n",
       "         0.20957692,  0.06899127],\n",
       "       [ 0.08615965,  0.26172996,  0.50978035,  0.63663852,  0.50978029,\n",
       "         0.2617299 ,  0.08615965],\n",
       "       [ 0.06899126,  0.20957695,  0.40820014,  0.50978029,  0.40820011,\n",
       "         0.20957689,  0.06899126],\n",
       "       [ 0.03542129,  0.10760038,  0.20957692,  0.2617299 ,  0.20957689,\n",
       "         0.10760035,  0.03542129],\n",
       "       [ 0.01166044,  0.0354213 ,  0.06899127,  0.08615965,  0.06899126,\n",
       "         0.03542129,  0.01166044]], dtype=float32)"
      ]
     },
     "execution_count": 12,
     "metadata": {},
     "output_type": "execute_result"
    }
   ],
   "source": [
    "gaussian_2d_res"
   ]
  },
  {
   "cell_type": "markdown",
   "metadata": {},
   "source": [
    "Ok, now that we have a 2d Gaussian, we'd like to convolve it with the image. Remember that in order to do that we need to reshape both the image and the kernel as 4D tensors."
   ]
  },
  {
   "cell_type": "code",
   "execution_count": 13,
   "metadata": {
    "collapsed": false
   },
   "outputs": [
    {
     "name": "stdout",
     "output_type": "stream",
     "text": [
      "Tensor(\"Reshape_2:0\", shape=(1, 28, 28, 1), dtype=float32)\n"
     ]
    }
   ],
   "source": [
    "img_4d = tf.reshape(img, [1, img.shape[0], img.shape[1], 1])\n",
    "print(img_4d)"
   ]
  },
  {
   "cell_type": "code",
   "execution_count": 14,
   "metadata": {
    "collapsed": false
   },
   "outputs": [
    {
     "name": "stdout",
     "output_type": "stream",
     "text": [
      "(1, 28, 28, 1)\n"
     ]
    }
   ],
   "source": [
    "print(img_4d.get_shape())"
   ]
  },
  {
   "cell_type": "code",
   "execution_count": 15,
   "metadata": {
    "collapsed": false
   },
   "outputs": [
    {
     "name": "stdout",
     "output_type": "stream",
     "text": [
      "(7, 7, 1, 1)\n"
     ]
    }
   ],
   "source": [
    "z_4d = tf.reshape(gaussian_2d, [ksize, ksize, 1, 1])\n",
    "print(z_4d.get_shape())"
   ]
  },
  {
   "cell_type": "markdown",
   "metadata": {},
   "source": [
    "The convolution operation is performed in tensorflow using the `nn.conv2d` function"
   ]
  },
  {
   "cell_type": "code",
   "execution_count": 16,
   "metadata": {
    "collapsed": false
   },
   "outputs": [
    {
     "data": {
      "text/plain": [
       "<tf.Tensor 'Conv2D:0' shape=(1, 28, 28, 1) dtype=float32>"
      ]
     },
     "execution_count": 16,
     "metadata": {},
     "output_type": "execute_result"
    }
   ],
   "source": [
    "convolved = tf.nn.conv2d(img_4d, z_4d, strides=[1, 1, 1, 1], padding='SAME')\n",
    "convolved"
   ]
  },
  {
   "cell_type": "code",
   "execution_count": 17,
   "metadata": {
    "collapsed": false
   },
   "outputs": [
    {
     "name": "stdout",
     "output_type": "stream",
     "text": [
      "(1, 28, 28, 1)\n"
     ]
    }
   ],
   "source": [
    "with tf.Session() as sess:\n",
    "    res = convolved.eval()\n",
    "print(res.shape)"
   ]
  },
  {
   "cell_type": "code",
   "execution_count": 18,
   "metadata": {
    "collapsed": false
   },
   "outputs": [
    {
     "data": {
      "text/plain": [
       "<matplotlib.image.AxesImage at 0x11e1d8e90>"
      ]
     },
     "execution_count": 18,
     "metadata": {},
     "output_type": "execute_result"
    },
    {
     "data": {
      "image/png": "[encoded data removed]",
      "text/plain": [
       "<matplotlib.figure.Figure at 0x11c91a790>"
      ]
     },
     "metadata": {},
     "output_type": "display_data"
    }
   ],
   "source": [
    "plt.subplot(121)\n",
    "plt.imshow(img, cmap='Greys')\n",
    "\n",
    "plt.subplot(122)\n",
    "plt.imshow(np.squeeze(res), cmap='Greys')\n",
    "\n",
    "# Or we could specify the exact dimensions we want to visualize:\n",
    "# plt.imshow(res[0, :, :, 0], cmap='Greys')"
   ]
  },
  {
   "cell_type": "markdown",
   "metadata": {},
   "source": [
    "## Exercise 1\n",
    "\n",
    "1. define an arbitrary square filter (could be random or could be of your choice)\n",
    "- convolve it with the image as displayed above\n",
    "- display the image, the filter and the convolved image"
   ]
  },
  {
   "cell_type": "code",
   "execution_count": 19,
   "metadata": {
    "collapsed": false
   },
   "outputs": [
    {
     "name": "stdout",
     "output_type": "stream",
     "text": [
      "(7, 7, 1, 1)\n",
      "(1, 28, 28, 1)\n"
     ]
    },
    {
     "data": {
      "text/plain": [
       "<matplotlib.image.AxesImage at 0x12147ec50>"
      ]
     },
     "execution_count": 19,
     "metadata": {},
     "output_type": "execute_result"
    },
    {
     "data": {
      "image/png": "[encoded data removed]",
      "text/plain": [
       "<matplotlib.figure.Figure at 0x11c82bd50>"
      ]
     },
     "metadata": {},
     "output_type": "display_data"
    }
   ],
   "source": [
    "z_4d = tf.reshape(gaussian_2d, [ksize, ksize, 1, 1])\n",
    "print(z_4d.get_shape())\n",
    "\n",
    "convolved = tf.nn.conv2d(img_4d, z_4d, strides=[1, 1, 1, 1], padding='SAME')\n",
    "\n",
    "with tf.Session() as sess:\n",
    "    res = convolved.eval()\n",
    "print(res.shape)\n",
    "\n",
    "plt.subplot(121)\n",
    "plt.imshow(img, cmap='Greys')\n",
    "\n",
    "plt.subplot(122)\n",
    "plt.imshow(np.squeeze(res), cmap='Greys')"
   ]
  },
  {
   "cell_type": "markdown",
   "metadata": {},
   "source": [
    "## A simple convolutional model"
   ]
  },
  {
   "cell_type": "code",
   "execution_count": 20,
   "metadata": {
    "collapsed": true
   },
   "outputs": [],
   "source": [
    "tf.reset_default_graph()"
   ]
  },
  {
   "cell_type": "code",
   "execution_count": 21,
   "metadata": {
    "collapsed": true
   },
   "outputs": [],
   "source": [
    "# Parameters\n",
    "learning_rate = 0.001\n",
    "training_iters = 200000\n",
    "batch_size = 128\n",
    "display_step = 10\n",
    "\n",
    "# Network Parameters\n",
    "n_input = 784 # MNIST data input (img shape: 28*28)\n",
    "n_classes = 10 # MNIST total classes (0-9 digits)\n",
    "dropout = 0.75 # Dropout, probability to keep units\n",
    "\n",
    "# tf Graph input\n",
    "x = tf.placeholder(tf.float32, [None, n_input])\n",
    "y = tf.placeholder(tf.float32, [None, n_classes])\n",
    "keep_prob = tf.placeholder(tf.float32) #dropout (keep probability)"
   ]
  },
  {
   "cell_type": "markdown",
   "metadata": {},
   "source": [
    "## Exercise 2\n",
    "\n",
    "create some wrappers for simplicity\n",
    "\n",
    "1. create a function `conv2d(x, W, b, strides=1)` that creates a convolutional layer using the `tf.nn.conv2d` and `tf.nn.bias_add`.\n",
    "- create a function `maxpool2d(x, k=2)` that performs max pooling using the `tf.nn.max_pool` function, where k is the stride in both directions.\n"
   ]
  },
  {
   "cell_type": "code",
   "execution_count": 27,
   "metadata": {
    "collapsed": true
   },
   "outputs": [],
   "source": [
    "def conv2d(x, W, b, strides=1):\n",
    "    # your code here\n",
    "    x = tf.nn.conv2d(x, W  , strides=[1, strides, strides, 1], padding='SAME')\n",
    "    x = tf.nn.bias_add(x, b)\n",
    "    return x\n",
    "\n",
    "\n",
    "def maxpool2d(x, k=2):\n",
    "    # your code here\n",
    "    return tf.nn.max_pool(x, ksize=[1, k, k, 1], strides=[1, k, k, 1],\n",
    "                          padding='SAME')"
   ]
  },
  {
   "cell_type": "markdown",
   "metadata": {},
   "source": [
    "Create the model"
   ]
  },
  {
   "cell_type": "code",
   "execution_count": 28,
   "metadata": {
    "collapsed": true
   },
   "outputs": [],
   "source": [
    "def conv_net(x, weights, biases, dropout):\n",
    "    # Reshape input picture\n",
    "    x = tf.reshape(x, shape=[-1, 28, 28, 1])\n",
    "    with tf.name_scope('conv_net'):\n",
    "        # Convolution Layer\n",
    "        conv1 = conv2d(x, weights['wc1'], biases['bc1'])\n",
    "        # Max Pooling (down-sampling)\n",
    "        conv1 = maxpool2d(conv1, k=2)\n",
    "\n",
    "        # Convolution Layer\n",
    "        conv2 = conv2d(conv1, weights['wc2'], biases['bc2'])\n",
    "        # Max Pooling (down-sampling)\n",
    "        conv2 = maxpool2d(conv2, k=2)\n",
    "\n",
    "        # Fully connected layer\n",
    "        # Reshape conv2 output to fit fully connected layer input\n",
    "        fc1 = tf.reshape(conv2, [-1, weights['wd1'].get_shape().as_list()[0]])\n",
    "        fc1 = tf.add(tf.matmul(fc1, weights['wd1']), biases['bd1'])\n",
    "        fc1 = tf.nn.relu(fc1)\n",
    "        # Apply Dropout\n",
    "        fc1 = tf.nn.dropout(fc1, dropout)\n",
    "\n",
    "        # Output, class prediction\n",
    "        out = tf.add(tf.matmul(fc1, weights['out']), biases['out'])\n",
    "    return out"
   ]
  },
  {
   "cell_type": "markdown",
   "metadata": {},
   "source": [
    "Store layers weight & biases"
   ]
  },
  {
   "cell_type": "code",
   "execution_count": 29,
   "metadata": {
    "collapsed": false
   },
   "outputs": [],
   "source": [
    "weights = {\n",
    "    # 5x5 conv, 1 input, 32 outputs\n",
    "    'wc1': tf.Variable(tf.random_normal([5, 5, 1, 32]), name='wc1'),\n",
    "    # 5x5 conv, 32 inputs, 64 outputs\n",
    "    'wc2': tf.Variable(tf.random_normal([5, 5, 32, 64]), name='wc2'),\n",
    "    # fully connected, 7*7*64 inputs, 1024 outputs\n",
    "    'wd1': tf.Variable(tf.random_normal([7*7*64, 1024]), name='wd1'),\n",
    "    # 1024 inputs, 10 outputs (class prediction)\n",
    "    'out': tf.Variable(tf.random_normal([1024, n_classes]), name='wout')\n",
    "}\n",
    "\n",
    "biases = {\n",
    "    'bc1': tf.Variable(tf.random_normal([32]), name='bc1'),\n",
    "    'bc2': tf.Variable(tf.random_normal([64]), name='bc2'),\n",
    "    'bd1': tf.Variable(tf.random_normal([1024]), name='bd1'),\n",
    "    'out': tf.Variable(tf.random_normal([n_classes]), name='bout')\n",
    "}"
   ]
  },
  {
   "cell_type": "markdown",
   "metadata": {},
   "source": [
    "Construct model, define loss, optimizer, evaluation, initializer etc.."
   ]
  },
  {
   "cell_type": "code",
   "execution_count": 30,
   "metadata": {
    "collapsed": false
   },
   "outputs": [],
   "source": [
    "# Construct model\n",
    "pred = conv_net(x, weights, biases, keep_prob)\n",
    "\n",
    "# Define loss and optimizer\n",
    "cost = tf.reduce_mean(tf.nn.softmax_cross_entropy_with_logits(logits=pred, labels=y))\n",
    "optimizer = tf.train.AdamOptimizer(learning_rate=learning_rate).minimize(cost)\n",
    "\n",
    "# Evaluate model\n",
    "correct_pred = tf.equal(tf.argmax(pred, 1), tf.argmax(y, 1))\n",
    "accuracy = tf.reduce_mean(tf.cast(correct_pred, tf.float32))\n",
    "\n",
    "# Initializing the variables\n",
    "init = tf.global_variables_initializer()"
   ]
  },
  {
   "cell_type": "markdown",
   "metadata": {},
   "source": [
    "### Launch the graph"
   ]
  },
  {
   "cell_type": "code",
   "execution_count": 31,
   "metadata": {
    "collapsed": false
   },
   "outputs": [
    {
     "name": "stdout",
     "output_type": "stream",
     "text": [
      "Iter 1280, Minibatch Loss= 22316.126953, Training Accuracy= 0.46875\n",
      "Iter 2560, Minibatch Loss= 10033.872070, Training Accuracy= 0.67969\n",
      "Iter 3840, Minibatch Loss= 10072.160156, Training Accuracy= 0.67188\n",
      "Iter 5120, Minibatch Loss= 5490.777832, Training Accuracy= 0.80469\n",
      "Iter 6400, Minibatch Loss= 3274.293945, Training Accuracy= 0.82031\n",
      "Iter 7680, Minibatch Loss= 10087.425781, Training Accuracy= 0.75781\n",
      "Iter 8960, Minibatch Loss= 4152.286621, Training Accuracy= 0.82812\n",
      "Iter 10240, Minibatch Loss= 3178.867676, Training Accuracy= 0.82812\n",
      "Iter 11520, Minibatch Loss= 1445.160889, Training Accuracy= 0.93750\n",
      "Iter 12800, Minibatch Loss= 3591.924805, Training Accuracy= 0.79688\n",
      "Iter 14080, Minibatch Loss= 1624.155029, Training Accuracy= 0.85938\n",
      "Iter 15360, Minibatch Loss= 2047.910889, Training Accuracy= 0.92188\n",
      "Iter 16640, Minibatch Loss= 4305.909180, Training Accuracy= 0.85938\n",
      "Iter 17920, Minibatch Loss= 1686.503174, Training Accuracy= 0.92188\n",
      "Iter 19200, Minibatch Loss= 2719.999512, Training Accuracy= 0.88281\n",
      "Iter 20480, Minibatch Loss= 1427.889160, Training Accuracy= 0.95312\n",
      "Iter 21760, Minibatch Loss= 6360.708984, Training Accuracy= 0.82812\n",
      "Iter 23040, Minibatch Loss= 837.471069, Training Accuracy= 0.94531\n",
      "Iter 24320, Minibatch Loss= 2863.602783, Training Accuracy= 0.89062\n",
      "Iter 25600, Minibatch Loss= 2458.749023, Training Accuracy= 0.89844\n",
      "Iter 26880, Minibatch Loss= 1346.786133, Training Accuracy= 0.93750\n",
      "Iter 28160, Minibatch Loss= 1791.885986, Training Accuracy= 0.92969\n",
      "Iter 29440, Minibatch Loss= 2249.287354, Training Accuracy= 0.91406\n",
      "Iter 30720, Minibatch Loss= 2163.794678, Training Accuracy= 0.89062\n",
      "Iter 32000, Minibatch Loss= 688.904968, Training Accuracy= 0.95312\n",
      "Iter 33280, Minibatch Loss= 1454.191895, Training Accuracy= 0.91406\n",
      "Iter 34560, Minibatch Loss= 1008.057617, Training Accuracy= 0.94531\n",
      "Iter 35840, Minibatch Loss= 1473.120361, Training Accuracy= 0.91406\n",
      "Iter 37120, Minibatch Loss= 2137.027344, Training Accuracy= 0.90625\n",
      "Iter 38400, Minibatch Loss= 215.671753, Training Accuracy= 0.96094\n",
      "Iter 39680, Minibatch Loss= 360.933777, Training Accuracy= 0.96094\n",
      "Iter 40960, Minibatch Loss= 2506.049805, Training Accuracy= 0.91406\n",
      "Iter 42240, Minibatch Loss= 1401.800659, Training Accuracy= 0.92969\n",
      "Iter 43520, Minibatch Loss= 567.606812, Training Accuracy= 0.96875\n",
      "Iter 44800, Minibatch Loss= 697.063232, Training Accuracy= 0.96094\n",
      "Iter 46080, Minibatch Loss= 138.955551, Training Accuracy= 0.96875\n",
      "Iter 47360, Minibatch Loss= 1373.996582, Training Accuracy= 0.95312\n",
      "Iter 48640, Minibatch Loss= 1751.149536, Training Accuracy= 0.93750\n",
      "Iter 49920, Minibatch Loss= 1073.341797, Training Accuracy= 0.94531\n",
      "Iter 51200, Minibatch Loss= 668.392456, Training Accuracy= 0.93750\n",
      "Iter 52480, Minibatch Loss= 269.524719, Training Accuracy= 0.97656\n",
      "Iter 53760, Minibatch Loss= 196.395950, Training Accuracy= 0.96875\n",
      "Iter 55040, Minibatch Loss= 708.951660, Training Accuracy= 0.95312\n",
      "Iter 56320, Minibatch Loss= 261.075317, Training Accuracy= 0.96094\n",
      "Iter 57600, Minibatch Loss= 799.046814, Training Accuracy= 0.94531\n",
      "Iter 58880, Minibatch Loss= 741.408081, Training Accuracy= 0.96094\n",
      "Iter 60160, Minibatch Loss= 822.900879, Training Accuracy= 0.93750\n",
      "Iter 61440, Minibatch Loss= 1210.909668, Training Accuracy= 0.94531\n",
      "Iter 62720, Minibatch Loss= 691.171936, Training Accuracy= 0.96094\n",
      "Iter 64000, Minibatch Loss= 552.152283, Training Accuracy= 0.96875\n",
      "Iter 65280, Minibatch Loss= 563.560425, Training Accuracy= 0.96094\n",
      "Iter 66560, Minibatch Loss= 513.581055, Training Accuracy= 0.97656\n",
      "Iter 67840, Minibatch Loss= 1570.759399, Training Accuracy= 0.92969\n",
      "Iter 69120, Minibatch Loss= 1508.565552, Training Accuracy= 0.92188\n",
      "Iter 70400, Minibatch Loss= 347.229523, Training Accuracy= 0.97656\n",
      "Iter 71680, Minibatch Loss= 1352.710693, Training Accuracy= 0.92969\n",
      "Iter 72960, Minibatch Loss= 184.172623, Training Accuracy= 0.99219\n",
      "Iter 74240, Minibatch Loss= 690.776001, Training Accuracy= 0.92969\n",
      "Iter 75520, Minibatch Loss= 175.093430, Training Accuracy= 0.97656\n",
      "Iter 76800, Minibatch Loss= 610.207764, Training Accuracy= 0.93750\n",
      "Iter 78080, Minibatch Loss= 1779.282715, Training Accuracy= 0.94531\n",
      "Iter 79360, Minibatch Loss= 783.462036, Training Accuracy= 0.92969\n",
      "Iter 80640, Minibatch Loss= 678.955994, Training Accuracy= 0.96875\n",
      "Iter 81920, Minibatch Loss= 1443.308472, Training Accuracy= 0.92188\n",
      "Iter 83200, Minibatch Loss= 849.190369, Training Accuracy= 0.93750\n",
      "Iter 84480, Minibatch Loss= 947.099121, Training Accuracy= 0.92969\n",
      "Iter 85760, Minibatch Loss= 972.087158, Training Accuracy= 0.93750\n",
      "Iter 87040, Minibatch Loss= 266.008820, Training Accuracy= 0.96875\n",
      "Iter 88320, Minibatch Loss= 875.710815, Training Accuracy= 0.92969\n",
      "Iter 89600, Minibatch Loss= 221.236740, Training Accuracy= 0.98438\n",
      "Iter 90880, Minibatch Loss= 836.589722, Training Accuracy= 0.91406\n",
      "Iter 92160, Minibatch Loss= 713.062134, Training Accuracy= 0.94531\n",
      "Iter 93440, Minibatch Loss= 850.571167, Training Accuracy= 0.94531\n",
      "Iter 94720, Minibatch Loss= 626.357727, Training Accuracy= 0.95312\n",
      "Iter 96000, Minibatch Loss= 331.838959, Training Accuracy= 0.94531\n",
      "Iter 97280, Minibatch Loss= 204.699341, Training Accuracy= 0.96875\n",
      "Iter 98560, Minibatch Loss= 344.455872, Training Accuracy= 0.95312\n",
      "Iter 99840, Minibatch Loss= 252.399704, Training Accuracy= 0.97656\n",
      "Iter 101120, Minibatch Loss= 690.091431, Training Accuracy= 0.95312\n",
      "Iter 102400, Minibatch Loss= 771.565308, Training Accuracy= 0.95312\n",
      "Iter 103680, Minibatch Loss= 364.735352, Training Accuracy= 0.96094\n",
      "Iter 104960, Minibatch Loss= 301.514526, Training Accuracy= 0.96875\n",
      "Iter 106240, Minibatch Loss= 88.323654, Training Accuracy= 0.97656\n",
      "Iter 107520, Minibatch Loss= 492.420349, Training Accuracy= 0.96875\n",
      "Iter 108800, Minibatch Loss= 479.268860, Training Accuracy= 0.96094\n",
      "Iter 110080, Minibatch Loss= 533.470337, Training Accuracy= 0.95312\n",
      "Iter 111360, Minibatch Loss= 430.601379, Training Accuracy= 0.97656\n",
      "Iter 112640, Minibatch Loss= 131.348694, Training Accuracy= 0.97656\n",
      "Iter 113920, Minibatch Loss= 442.226562, Training Accuracy= 0.94531\n",
      "Iter 115200, Minibatch Loss= 895.806946, Training Accuracy= 0.95312\n",
      "Iter 116480, Minibatch Loss= 545.092163, Training Accuracy= 0.95312\n",
      "Iter 117760, Minibatch Loss= 158.679626, Training Accuracy= 0.98438\n",
      "Iter 119040, Minibatch Loss= 710.935242, Training Accuracy= 0.95312\n",
      "Iter 120320, Minibatch Loss= 706.288574, Training Accuracy= 0.96094\n",
      "Iter 121600, Minibatch Loss= 277.235870, Training Accuracy= 0.96875\n",
      "Iter 122880, Minibatch Loss= 473.873657, Training Accuracy= 0.96875\n",
      "Iter 124160, Minibatch Loss= 1268.613037, Training Accuracy= 0.93750\n",
      "Iter 125440, Minibatch Loss= 17.641830, Training Accuracy= 0.99219\n",
      "Iter 126720, Minibatch Loss= 184.574188, Training Accuracy= 0.95312\n",
      "Iter 128000, Minibatch Loss= 503.825378, Training Accuracy= 0.95312\n",
      "Iter 129280, Minibatch Loss= 353.953552, Training Accuracy= 0.98438\n",
      "Iter 130560, Minibatch Loss= 108.799667, Training Accuracy= 0.99219\n",
      "Iter 131840, Minibatch Loss= 262.213684, Training Accuracy= 0.97656\n",
      "Iter 133120, Minibatch Loss= 48.431381, Training Accuracy= 0.99219\n",
      "Iter 134400, Minibatch Loss= 8.304626, Training Accuracy= 0.99219\n",
      "Iter 135680, Minibatch Loss= 202.935028, Training Accuracy= 0.97656\n",
      "Iter 136960, Minibatch Loss= 246.056717, Training Accuracy= 0.98438\n",
      "Iter 138240, Minibatch Loss= 39.067734, Training Accuracy= 0.98438\n",
      "Iter 139520, Minibatch Loss= 242.056992, Training Accuracy= 0.97656\n",
      "Iter 140800, Minibatch Loss= 338.444214, Training Accuracy= 0.99219\n",
      "Iter 142080, Minibatch Loss= 310.376709, Training Accuracy= 0.98438\n",
      "Iter 143360, Minibatch Loss= 251.602997, Training Accuracy= 0.96875\n",
      "Iter 144640, Minibatch Loss= 362.993927, Training Accuracy= 0.98438\n",
      "Iter 145920, Minibatch Loss= 199.417664, Training Accuracy= 0.97656\n",
      "Iter 147200, Minibatch Loss= 283.567749, Training Accuracy= 0.97656\n",
      "Iter 148480, Minibatch Loss= 391.593872, Training Accuracy= 0.99219\n",
      "Iter 149760, Minibatch Loss= 157.461212, Training Accuracy= 0.96094\n",
      "Iter 151040, Minibatch Loss= 410.593445, Training Accuracy= 0.96094\n",
      "Iter 152320, Minibatch Loss= 387.946167, Training Accuracy= 0.97656\n",
      "Iter 153600, Minibatch Loss= 95.187477, Training Accuracy= 0.98438\n",
      "Iter 154880, Minibatch Loss= 299.185669, Training Accuracy= 0.97656\n",
      "Iter 156160, Minibatch Loss= 424.224518, Training Accuracy= 0.94531\n",
      "Iter 157440, Minibatch Loss= 73.274437, Training Accuracy= 0.98438\n",
      "Iter 158720, Minibatch Loss= 570.001465, Training Accuracy= 0.96094\n",
      "Iter 160000, Minibatch Loss= 299.539948, Training Accuracy= 0.97656\n",
      "Iter 161280, Minibatch Loss= 272.280121, Training Accuracy= 0.98438\n",
      "Iter 162560, Minibatch Loss= 442.198792, Training Accuracy= 0.96094\n",
      "Iter 163840, Minibatch Loss= 641.426147, Training Accuracy= 0.96094\n",
      "Iter 165120, Minibatch Loss= 53.702538, Training Accuracy= 0.97656\n",
      "Iter 166400, Minibatch Loss= 336.069855, Training Accuracy= 0.98438\n",
      "Iter 167680, Minibatch Loss= 84.492126, Training Accuracy= 0.98438\n",
      "Iter 168960, Minibatch Loss= 395.977661, Training Accuracy= 0.95312\n",
      "Iter 170240, Minibatch Loss= 290.890381, Training Accuracy= 0.96094\n",
      "Iter 171520, Minibatch Loss= 494.825409, Training Accuracy= 0.97656\n",
      "Iter 172800, Minibatch Loss= 254.244781, Training Accuracy= 0.99219\n",
      "Iter 174080, Minibatch Loss= 120.715149, Training Accuracy= 0.98438\n",
      "Iter 175360, Minibatch Loss= 376.029999, Training Accuracy= 0.96094\n",
      "Iter 176640, Minibatch Loss= 206.617981, Training Accuracy= 0.97656\n",
      "Iter 177920, Minibatch Loss= 342.053497, Training Accuracy= 0.94531\n",
      "Iter 179200, Minibatch Loss= 154.706589, Training Accuracy= 0.96875\n",
      "Iter 180480, Minibatch Loss= 90.858063, Training Accuracy= 0.97656\n",
      "Iter 181760, Minibatch Loss= 745.026611, Training Accuracy= 0.94531\n",
      "Iter 183040, Minibatch Loss= 360.952057, Training Accuracy= 0.93750\n",
      "Iter 184320, Minibatch Loss= 0.000000, Training Accuracy= 1.00000\n",
      "Iter 185600, Minibatch Loss= 87.351074, Training Accuracy= 0.99219\n",
      "Iter 186880, Minibatch Loss= 62.542007, Training Accuracy= 0.99219\n",
      "Iter 188160, Minibatch Loss= 255.762604, Training Accuracy= 0.97656\n",
      "Iter 189440, Minibatch Loss= 334.080505, Training Accuracy= 0.97656\n",
      "Iter 190720, Minibatch Loss= 323.014526, Training Accuracy= 0.96094\n",
      "Iter 192000, Minibatch Loss= 56.069080, Training Accuracy= 0.99219\n",
      "Iter 193280, Minibatch Loss= 0.000000, Training Accuracy= 1.00000\n",
      "Iter 194560, Minibatch Loss= 418.227264, Training Accuracy= 0.96094\n",
      "Iter 195840, Minibatch Loss= 161.649475, Training Accuracy= 0.97656\n",
      "Iter 197120, Minibatch Loss= 44.750702, Training Accuracy= 0.99219\n",
      "Iter 198400, Minibatch Loss= 116.123093, Training Accuracy= 0.96875\n",
      "Iter 199680, Minibatch Loss= 250.366470, Training Accuracy= 0.97656\n",
      "Optimization Finished!\n",
      "('Testing Accuracy:', 0.9765625)\n"
     ]
    }
   ],
   "source": [
    "with tf.Session() as sess:\n",
    "    sess.run(init)\n",
    "    step = 1\n",
    "    # Keep training until reach max iterations\n",
    "    while step * batch_size < training_iters:\n",
    "        batch_x, batch_y = mnist.train.next_batch(batch_size)\n",
    "        # Run optimization op (backprop)\n",
    "        sess.run(optimizer, feed_dict={x: batch_x, y: batch_y,\n",
    "                                       keep_prob: dropout})\n",
    "        if step % display_step == 0:\n",
    "            # Calculate batch loss and accuracy\n",
    "            loss, acc = sess.run([cost, accuracy], feed_dict={x: batch_x,\n",
    "                                                              y: batch_y,\n",
    "                                                              keep_prob: 1.})\n",
    "            print(\"Iter \" + str(step*batch_size) + \", Minibatch Loss= \" + \\\n",
    "                  \"{:.6f}\".format(loss) + \", Training Accuracy= \" + \\\n",
    "                  \"{:.5f}\".format(acc))\n",
    "        step += 1\n",
    "    print(\"Optimization Finished!\")\n",
    "\n",
    "    # Calculate accuracy for 256 mnist test images\n",
    "    print(\"Testing Accuracy:\", \\\n",
    "        sess.run(accuracy, feed_dict={x: mnist.test.images[:256],\n",
    "                                      y: mnist.test.labels[:256],\n",
    "                                      keep_prob: 1.}))"
   ]
  },
  {
   "cell_type": "code",
   "execution_count": null,
   "metadata": {
    "collapsed": true
   },
   "outputs": [],
   "source": []
  }
 ],
 "metadata": {
  "kernelspec": {
   "display_name": "Python 2",
   "language": "python",
   "name": "python2"
  },
  "language_info": {
   "codemirror_mode": {
    "name": "ipython",
    "version": 2
   },
   "file_extension": ".py",
   "mimetype": "text/x-python",
   "name": "python",
   "nbconvert_exporter": "python",
   "pygments_lexer": "ipython2",
   "version": "2.7.13"
  }
 },
 "nbformat": 4,
 "nbformat_minor": 2
}
