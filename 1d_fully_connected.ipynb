{
 "cells": [
  {
   "cell_type": "markdown",
   "metadata": {
    "collapsed": true
   },
   "source": [
    "# Fully Connected Neural Network\n",
    "\n",
    "Notebook inspired by https://github.com/aymericdamien/TensorFlow-Examples/\n",
    "\n",
    "Example is using the [MNIST database of handwritten digits](http://yann.lecun.com/exdb/mnist/)"
   ]
  },
  {
   "cell_type": "code",
   "execution_count": 1,
   "metadata": {
    "collapsed": false
   },
   "outputs": [
    {
     "name": "stdout",
     "output_type": "stream",
     "text": [
      "Extracting /tmp/data/train-images-idx3-ubyte.gz\n",
      "Extracting /tmp/data/train-labels-idx1-ubyte.gz\n",
      "Extracting /tmp/data/t10k-images-idx3-ubyte.gz\n",
      "Extracting /tmp/data/t10k-labels-idx1-ubyte.gz\n"
     ]
    }
   ],
   "source": [
    "# Import MINST data\n",
    "from tensorflow.examples.tutorials.mnist import input_data\n",
    "mnist = input_data.read_data_sets(\"/tmp/data/\", one_hot=True)\n",
    "\n",
    "import tensorflow as tf"
   ]
  },
  {
   "cell_type": "code",
   "execution_count": 16,
   "metadata": {
    "collapsed": true
   },
   "outputs": [],
   "source": [
    "# Parameters\n",
    "learning_rate = 0.001\n",
    "training_epochs = 15\n",
    "batch_size = 100\n",
    "display_step = 1\n",
    "\n",
    "# Network Parameters\n",
    "n_hidden = 256\n",
    "n_input = 784 # MNIST data input (img shape: 28*28)\n",
    "n_classes = 10 # MNIST total classes (0-9 digits)\n",
    "\n",
    "tf.reset_default_graph()\n",
    "\n",
    "# tf Graph input\n",
    "x = tf.placeholder(\"float\", [None, n_input])\n",
    "y = tf.placeholder(\"float\", [None, n_classes])"
   ]
  },
  {
   "cell_type": "markdown",
   "metadata": {},
   "source": [
    "## Exercise 1\n",
    "\n",
    "Define a function that builds a fully connected neural network. You will need to complete these steps:\n",
    "\n",
    "1. define 4 `tf.Variable` with the appropriate shapes for W, b, W_out, b_out. Initialize them with random values.\n",
    "\n",
    "- define a super simple network with 1 layer that performs the operation:\n",
    "\n",
    "        relu(x * W + b)\n",
    "\n",
    "- define an output layer that performs the operation:\n",
    "\n",
    "        softmax(x * W_out + b_out)\n",
    "\n",
    "- encapsulate these in a function called `dnn` that takes `x` as input and returns the output layer"
   ]
  },
  {
   "cell_type": "code",
   "execution_count": 33,
   "metadata": {
    "collapsed": true
   },
   "outputs": [],
   "source": [
    "# Create model\n",
    "def dnn(x, n_hidden_1):\n",
    "    # your code here\n",
    "    W = tf.Variable(tf.zeros([n_input, n_hidden_1]))\n",
    "    b = tf.Variable(tf.zeros([n_hidden_1]))\n",
    "    \n",
    "    W_out = tf.Variable(tf.zeros([n_hidden_1, n_classes]))\n",
    "    b_out = tf.Variable(tf.zeros([n_classes])) \n",
    "    \n",
    "    layer_1 = tf.nn.relu(tf.matmul(x, W) + b)\n",
    "    \n",
    "    output_layer = tf.nn.softmax(tf.matmul(layer_1, W_out) + b_out) \n",
    "    \n",
    "    return output_layer"
   ]
  },
  {
   "cell_type": "code",
   "execution_count": 34,
   "metadata": {
    "collapsed": false
   },
   "outputs": [],
   "source": [
    "# Construct model\n",
    "pred = dnn(x, n_hidden)"
   ]
  },
  {
   "cell_type": "markdown",
   "metadata": {},
   "source": [
    "What does the graph look like for this network?"
   ]
  },
  {
   "cell_type": "code",
   "execution_count": 35,
   "metadata": {
    "collapsed": false
   },
   "outputs": [
    {
     "data": {
      "text/plain": [
       "[u'Placeholder',\n",
       " u'Placeholder_1',\n",
       " u'zeros',\n",
       " u'Variable',\n",
       " u'Variable/Assign',\n",
       " u'Variable/read',\n",
       " u'zeros_1',\n",
       " u'Variable_1',\n",
       " u'Variable_1/Assign',\n",
       " u'Variable_1/read',\n",
       " u'zeros_2',\n",
       " u'Variable_2',\n",
       " u'Variable_2/Assign',\n",
       " u'Variable_2/read',\n",
       " u'zeros_3',\n",
       " u'Variable_3',\n",
       " u'Variable_3/Assign',\n",
       " u'Variable_3/read',\n",
       " u'MatMul',\n",
       " u'add',\n",
       " u'Relu',\n",
       " u'zeros_4',\n",
       " u'Variable_4',\n",
       " u'Variable_4/Assign',\n",
       " u'Variable_4/read',\n",
       " u'zeros_5',\n",
       " u'Variable_5',\n",
       " u'Variable_5/Assign',\n",
       " u'Variable_5/read',\n",
       " u'zeros_6',\n",
       " u'Variable_6',\n",
       " u'Variable_6/Assign',\n",
       " u'Variable_6/read',\n",
       " u'zeros_7',\n",
       " u'Variable_7',\n",
       " u'Variable_7/Assign',\n",
       " u'Variable_7/read',\n",
       " u'MatMul_2',\n",
       " u'add_1',\n",
       " u'Relu_1',\n",
       " u'zeros_8',\n",
       " u'Variable_8',\n",
       " u'Variable_8/Assign',\n",
       " u'Variable_8/read',\n",
       " u'zeros_9',\n",
       " u'Variable_9',\n",
       " u'Variable_9/Assign',\n",
       " u'Variable_9/read',\n",
       " u'zeros_10',\n",
       " u'Variable_10',\n",
       " u'Variable_10/Assign',\n",
       " u'Variable_10/read',\n",
       " u'zeros_11',\n",
       " u'Variable_11',\n",
       " u'Variable_11/Assign',\n",
       " u'Variable_11/read',\n",
       " u'zeros_12',\n",
       " u'Variable_12',\n",
       " u'Variable_12/Assign',\n",
       " u'Variable_12/read',\n",
       " u'zeros_13',\n",
       " u'Variable_13',\n",
       " u'Variable_13/Assign',\n",
       " u'Variable_13/read',\n",
       " u'zeros_14',\n",
       " u'Variable_14',\n",
       " u'Variable_14/Assign',\n",
       " u'Variable_14/read',\n",
       " u'zeros_15',\n",
       " u'Variable_15',\n",
       " u'Variable_15/Assign',\n",
       " u'Variable_15/read',\n",
       " u'MatMul_5',\n",
       " u'add_2',\n",
       " u'Relu_2',\n",
       " u'zeros_16',\n",
       " u'Variable_16',\n",
       " u'Variable_16/Assign',\n",
       " u'Variable_16/read',\n",
       " u'zeros_17',\n",
       " u'Variable_17',\n",
       " u'Variable_17/Assign',\n",
       " u'Variable_17/read',\n",
       " u'zeros_18',\n",
       " u'Variable_18',\n",
       " u'Variable_18/Assign',\n",
       " u'Variable_18/read',\n",
       " u'zeros_19',\n",
       " u'Variable_19',\n",
       " u'Variable_19/Assign',\n",
       " u'Variable_19/read',\n",
       " u'MatMul_7',\n",
       " u'add_3',\n",
       " u'Relu_3',\n",
       " u'zeros_20',\n",
       " u'Variable_20',\n",
       " u'Variable_20/Assign',\n",
       " u'Variable_20/read',\n",
       " u'zeros_21',\n",
       " u'Variable_21',\n",
       " u'Variable_21/Assign',\n",
       " u'Variable_21/read',\n",
       " u'zeros_22',\n",
       " u'Variable_22',\n",
       " u'Variable_22/Assign',\n",
       " u'Variable_22/read',\n",
       " u'zeros_23',\n",
       " u'Variable_23',\n",
       " u'Variable_23/Assign',\n",
       " u'Variable_23/read',\n",
       " u'MatMul_9',\n",
       " u'add_4',\n",
       " u'Relu_4',\n",
       " u'MatMul_10',\n",
       " u'add_5',\n",
       " u'Softmax',\n",
       " u'zeros_24',\n",
       " u'Variable_24',\n",
       " u'Variable_24/Assign',\n",
       " u'Variable_24/read',\n",
       " u'zeros_25',\n",
       " u'Variable_25',\n",
       " u'Variable_25/Assign',\n",
       " u'Variable_25/read',\n",
       " u'zeros_26',\n",
       " u'Variable_26',\n",
       " u'Variable_26/Assign',\n",
       " u'Variable_26/read',\n",
       " u'zeros_27',\n",
       " u'Variable_27',\n",
       " u'Variable_27/Assign',\n",
       " u'Variable_27/read',\n",
       " u'MatMul_11',\n",
       " u'add_6',\n",
       " u'Relu_5',\n",
       " u'zeros_28',\n",
       " u'Variable_28',\n",
       " u'Variable_28/Assign',\n",
       " u'Variable_28/read',\n",
       " u'zeros_29',\n",
       " u'Variable_29',\n",
       " u'Variable_29/Assign',\n",
       " u'Variable_29/read',\n",
       " u'zeros_30',\n",
       " u'Variable_30',\n",
       " u'Variable_30/Assign',\n",
       " u'Variable_30/read',\n",
       " u'zeros_31',\n",
       " u'Variable_31',\n",
       " u'Variable_31/Assign',\n",
       " u'Variable_31/read',\n",
       " u'MatMul_13',\n",
       " u'add_7',\n",
       " u'Relu_6',\n",
       " u'zeros_32',\n",
       " u'Variable_32',\n",
       " u'Variable_32/Assign',\n",
       " u'Variable_32/read',\n",
       " u'zeros_33',\n",
       " u'Variable_33',\n",
       " u'Variable_33/Assign',\n",
       " u'Variable_33/read',\n",
       " u'zeros_34',\n",
       " u'Variable_34',\n",
       " u'Variable_34/Assign',\n",
       " u'Variable_34/read',\n",
       " u'zeros_35',\n",
       " u'Variable_35',\n",
       " u'Variable_35/Assign',\n",
       " u'Variable_35/read',\n",
       " u'MatMul_15',\n",
       " u'add_8',\n",
       " u'Relu_7',\n",
       " u'MatMul_16',\n",
       " u'add_9',\n",
       " u'Softmax_1']"
      ]
     },
     "execution_count": 35,
     "metadata": {},
     "output_type": "execute_result"
    }
   ],
   "source": [
    "g = tf.get_default_graph()\n",
    "[op.name for op in g.get_operations()]"
   ]
  },
  {
   "cell_type": "code",
   "execution_count": 36,
   "metadata": {
    "collapsed": false
   },
   "outputs": [],
   "source": [
    "# Define loss and optimizer\n",
    "cost = tf.reduce_mean(tf.nn.softmax_cross_entropy_with_logits(logits=pred, labels=y))\n",
    "optimizer = tf.train.AdamOptimizer(learning_rate=learning_rate).minimize(cost)\n",
    "\n",
    "# Initializing the variables\n",
    "init = tf.global_variables_initializer()"
   ]
  },
  {
   "cell_type": "code",
   "execution_count": 37,
   "metadata": {
    "collapsed": false
   },
   "outputs": [
    {
     "name": "stdout",
     "output_type": "stream",
     "text": [
      "Epoch: 0001 cost= 2.302382801\n",
      "Epoch: 0002 cost= 2.302007225\n",
      "Epoch: 0003 cost= 2.301741545\n",
      "Epoch: 0004 cost= 2.301565705\n",
      "Epoch: 0005 cost= 2.301454385\n",
      "Epoch: 0006 cost= 2.301385759\n",
      "Epoch: 0007 cost= 2.301344267\n",
      "Epoch: 0008 cost= 2.301316606\n",
      "Epoch: 0009 cost= 2.301298621\n",
      "Epoch: 0010 cost= 2.301283788\n",
      "Epoch: 0011 cost= 2.301272373\n",
      "Epoch: 0012 cost= 2.301264794\n",
      "Epoch: 0013 cost= 2.301257312\n",
      "Epoch: 0014 cost= 2.301252129\n",
      "Epoch: 0015 cost= 2.301246075\n",
      "Optimization Finished!\n",
      "Accuracy: 0.1135\n"
     ]
    }
   ],
   "source": [
    "# Launch the graph\n",
    "with tf.Session() as sess:\n",
    "    sess.run(init)\n",
    "\n",
    "    # Training cycle\n",
    "    for epoch in range(training_epochs):\n",
    "        avg_cost = 0.\n",
    "        total_batch = int(mnist.train.num_examples/batch_size)\n",
    "        # Loop over all batches\n",
    "        for i in range(total_batch):\n",
    "            batch_x, batch_y = mnist.train.next_batch(batch_size)\n",
    "            # Run optimization op (backprop) and cost op (to get loss value)\n",
    "            _, c = sess.run([optimizer, cost], feed_dict={x: batch_x,\n",
    "                                                          y: batch_y})\n",
    "            # Compute average loss\n",
    "            avg_cost += c / total_batch\n",
    "        # Display logs per epoch step\n",
    "        if epoch % display_step == 0:\n",
    "            print \"Epoch:\", '%04d' % (epoch+1), \"cost=\", \\\n",
    "                \"{:.9f}\".format(avg_cost)\n",
    "    print \"Optimization Finished!\"\n",
    "\n",
    "    # Test model\n",
    "    correct_prediction = tf.equal(tf.argmax(pred, 1), tf.argmax(y, 1))\n",
    "    # Calculate accuracy\n",
    "    accuracy = tf.reduce_mean(tf.cast(correct_prediction, \"float\"))\n",
    "    print \"Accuracy:\", accuracy.eval({x: mnist.test.images, y: mnist.test.labels})"
   ]
  },
  {
   "cell_type": "markdown",
   "metadata": {},
   "source": [
    "## Exercise 2\n",
    "\n",
    "1. modify the `dnn` function adding a second hidden layer also with `relu` activation"
   ]
  },
  {
   "cell_type": "code",
   "execution_count": 45,
   "metadata": {
    "collapsed": true
   },
   "outputs": [],
   "source": [
    "# Create model\n",
    "def dnn_2(x, n_hidden_1, n_hidden_2):\n",
    "    # your code here\n",
    "    W1 = tf.Variable(tf.zeros([n_input, n_hidden_1]))\n",
    "    b1 = tf.Variable(tf.zeros([n_hidden_1]))\n",
    "    \n",
    "    W2 = tf.Variable(tf.zeros([n_hidden_1, n_hidden_2]))\n",
    "    b2 = tf.Variable(tf.zeros([n_hidden_2]))\n",
    "    \n",
    "    W_out = tf.Variable(tf.zeros([n_hidden_2, n_classes]))\n",
    "    b_out = tf.Variable(tf.zeros([n_classes])) \n",
    "    \n",
    "    layer_1 = tf.nn.relu(tf.matmul(x, W1) + b1)\n",
    "    \n",
    "    layer_2 = tf.nn.relu(tf.matmul(layer_1, W2) + b2)\n",
    "    \n",
    "    output_layer = tf.nn.softmax(tf.matmul(layer_2, W_out) + b_out) \n",
    "    \n",
    "    return output_layer"
   ]
  },
  {
   "cell_type": "code",
   "execution_count": 46,
   "metadata": {
    "collapsed": false
   },
   "outputs": [],
   "source": [
    "pred = dnn_2(x, 512, 256)\n",
    "# Define loss and optimizer\n",
    "cost = tf.reduce_mean(tf.nn.softmax_cross_entropy_with_logits(logits=pred, labels=y))\n",
    "optimizer = tf.train.AdamOptimizer(learning_rate=learning_rate).minimize(cost)\n",
    "\n",
    "init = tf.global_variables_initializer()"
   ]
  },
  {
   "cell_type": "code",
   "execution_count": 47,
   "metadata": {
    "collapsed": false
   },
   "outputs": [
    {
     "name": "stdout",
     "output_type": "stream",
     "text": [
      "Epoch: 0001 cost= 2.302375377\n",
      "Epoch: 0002 cost= 2.302003196\n",
      "Epoch: 0003 cost= 2.301742539\n",
      "Epoch: 0004 cost= 2.301563351\n",
      "Epoch: 0005 cost= 2.301453671\n",
      "Epoch: 0006 cost= 2.301388338\n",
      "Epoch: 0007 cost= 2.301344375\n",
      "Epoch: 0008 cost= 2.301317351\n",
      "Epoch: 0009 cost= 2.301298363\n",
      "Epoch: 0010 cost= 2.301285440\n",
      "Epoch: 0011 cost= 2.301273957\n",
      "Epoch: 0012 cost= 2.301266164\n",
      "Epoch: 0013 cost= 2.301257689\n",
      "Epoch: 0014 cost= 2.301252881\n",
      "Epoch: 0015 cost= 2.301248926\n",
      "Optimization Finished!\n",
      "Accuracy: 0.1135\n"
     ]
    }
   ],
   "source": [
    "# Launch the graph\n",
    "with tf.Session() as sess:\n",
    "    sess.run(init)\n",
    "\n",
    "    # Training cycle\n",
    "    for epoch in range(training_epochs):\n",
    "        avg_cost = 0.\n",
    "        total_batch = int(mnist.train.num_examples/batch_size)\n",
    "        # Loop over all batches\n",
    "        for i in range(total_batch):\n",
    "            batch_x, batch_y = mnist.train.next_batch(batch_size)\n",
    "            # Run optimization op (backprop) and cost op (to get loss value)\n",
    "            _, c = sess.run([optimizer, cost], feed_dict={x: batch_x,\n",
    "                                                          y: batch_y})\n",
    "            # Compute average loss\n",
    "            avg_cost += c / total_batch\n",
    "        # Display logs per epoch step\n",
    "        if epoch % display_step == 0:\n",
    "            print \"Epoch:\", '%04d' % (epoch+1), \"cost=\", \\\n",
    "                \"{:.9f}\".format(avg_cost)\n",
    "    print \"Optimization Finished!\"\n",
    "\n",
    "    # Test model\n",
    "    correct_prediction = tf.equal(tf.argmax(pred, 1), tf.argmax(y, 1))\n",
    "    # Calculate accuracy\n",
    "    accuracy = tf.reduce_mean(tf.cast(correct_prediction, \"float\"))\n",
    "    print \"Accuracy:\", accuracy.eval({x: mnist.test.images, y: mnist.test.labels})"
   ]
  },
  {
   "cell_type": "code",
   "execution_count": null,
   "metadata": {
    "collapsed": true
   },
   "outputs": [],
   "source": []
  }
 ],
 "metadata": {
  "kernelspec": {
   "display_name": "Python 2",
   "language": "python",
   "name": "python2"
  },
  "language_info": {
   "codemirror_mode": {
    "name": "ipython",
    "version": 2
   },
   "file_extension": ".py",
   "mimetype": "text/x-python",
   "name": "python",
   "nbconvert_exporter": "python",
   "pygments_lexer": "ipython2",
   "version": "2.7.13"
  }
 },
 "nbformat": 4,
 "nbformat_minor": 0
}
